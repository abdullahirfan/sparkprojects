{
    "nbformat_minor": 1, 
    "cells": [
        {
            "source": "<a id=\"load\"></a>\n## 2. Load and explore data", 
            "cell_type": "markdown", 
            "metadata": {}
        }, 
        {
            "execution_count": 3, 
            "cell_type": "code", 
            "metadata": {}, 
            "outputs": [
                {
                    "output_type": "stream", 
                    "name": "stdout", 
                    "text": "Collecting wget\nInstalling collected packages: wget\nSuccessfully installed wget-3.2\n"
                }
            ], 
            "source": "!pip install wget  "
        }, 
        {
            "execution_count": 4, 
            "cell_type": "code", 
            "metadata": {}, 
            "outputs": [], 
            "source": "import wget\nfrom pprint import PrettyPrinter\n\npp = PrettyPrinter(indent=2, depth=3).pprint"
        }, 
        {
            "execution_count": 5, 
            "cell_type": "code", 
            "metadata": {}, 
            "outputs": [
                {
                    "output_type": "stream", 
                    "name": "stdout", 
                    "text": "trainingTweets.csv\n"
                }
            ], 
            "source": "link_to_data = 'https://github.com/pmservice/wml-sample-models/raw/master/spark/sentiment-prediction/data/trainingTweets.csv'\nfilename = wget.download(link_to_data)\n\nprint(filename)"
        }, 
        {
            "source": "The csv file trainingTweets.csv is availble on gpfs now. Load the file to Apache\u00ae Spark DataFrame using code below.", 
            "cell_type": "markdown", 
            "metadata": {}
        }, 
        {
            "execution_count": 6, 
            "cell_type": "code", 
            "metadata": {}, 
            "outputs": [], 
            "source": "spark = SparkSession.builder.getOrCreate()\n\ndf_data = spark.read\\\n  .format('org.apache.spark.sql.execution.datasources.csv.CSVFileFormat')\\\n  .option('header', 'true')\\\n  .option('inferSchema', 'true')\\\n  .load(filename)"
        }, 
        {
            "execution_count": 44, 
            "cell_type": "code", 
            "metadata": {}, 
            "outputs": [
                {
                    "execution_count": 44, 
                    "metadata": {}, 
                    "data": {
                        "text/html": "\n            <div>\n                <p><b>SparkSession - hive</b></p>\n                \n        <div>\n            <p><b>SparkContext</b></p>\n\n\n            <dl>\n              <dt>Version</dt>\n                <dd><code>v2.3.3</code></dd>\n              <dt>Master</dt>\n                <dd><code>spark://jkg-deployment-f5c6870a-76bd-4ca0-96ea-a56c29668409-859fc7865fp:7077</code></dd>\n              <dt>AppName</dt>\n                <dd><code>pyspark-shell</code></dd>\n            </dl>\n        </div>\n        \n            </div>\n        ", 
                        "text/plain": "<pyspark.sql.session.SparkSession at 0x7f543502beb8>"
                    }, 
                    "output_type": "execute_result"
                }
            ], 
            "source": "spark"
        }, 
        {
            "source": "Explore the loaded data by using Apache\u00ae Spark DataFrame methods:\n-  print schema\n-  print first ten records\n-  count all records", 
            "cell_type": "markdown", 
            "metadata": {}
        }, 
        {
            "execution_count": 7, 
            "cell_type": "code", 
            "metadata": {}, 
            "outputs": [
                {
                    "output_type": "stream", 
                    "name": "stdout", 
                    "text": "root\n |-- id: integer (nullable = true)\n |-- text: string (nullable = true)\n |-- label: integer (nullable = true)\n\n"
                }
            ], 
            "source": "df_data.printSchema()"
        }, 
        {
            "source": "As you can see, the data contains 3 fields. ``label`` field is the one we would like to classify tweets.", 
            "cell_type": "markdown", 
            "metadata": {}
        }, 
        {
            "execution_count": 8, 
            "cell_type": "code", 
            "metadata": {}, 
            "outputs": [
                {
                    "output_type": "stream", 
                    "name": "stdout", 
                    "text": "+---+--------------------+-----+\n| id|                text|label|\n+---+--------------------+-----+\n|  1|realdonaldtrump s...|    1|\n|  2|cnnvideo hillaryc...|    1|\n|  3|realdonaldtrump t...|    1|\n|  4|sensanders the am...|    1|\n|  5|billburton realdo...|    0|\n|  6|reince hillarycli...|    0|\n|  7|bentechpro realdo...|    1|\n|  8|dahbigj hopeobama...|    0|\n|  9|theosmelek thuddy...|    0|\n| 10|realdonaldtrump r...|    0|\n+---+--------------------+-----+\nonly showing top 10 rows\n\n"
                }
            ], 
            "source": "df_data.show(n=10)"
        }, 
        {
            "execution_count": 9, 
            "cell_type": "code", 
            "metadata": {}, 
            "outputs": [
                {
                    "output_type": "stream", 
                    "name": "stdout", 
                    "text": "Total number of records: 5987\n"
                }
            ], 
            "source": "print(\"Total number of records: {count}\".format(count=df_data.count()))"
        }, 
        {
            "source": "Data set contains 5987 records.", 
            "cell_type": "markdown", 
            "metadata": {}
        }, 
        {
            "source": "<a id=\"model\"></a>\n## 3. Create an Apache\u00ae Spark machine learning model", 
            "cell_type": "markdown", 
            "metadata": {}
        }, 
        {
            "source": "### 3.1: Prepare data\n\nIn this subsection split your data into: \n-  The train data set, which is the largest group, is used for training.\n-  The test data set will be used for model evaluation and is used to test the assumptions of the model.\n-  The predict data set will be used for prediction.", 
            "cell_type": "markdown", 
            "metadata": {}
        }, 
        {
            "execution_count": 10, 
            "cell_type": "code", 
            "metadata": {}, 
            "outputs": [
                {
                    "output_type": "stream", 
                    "name": "stdout", 
                    "text": "Number of training records: 4783\nNumber of testing records: 1076\nNumber of prediction records: 128\n"
                }
            ], 
            "source": "splitted_data = df_data.randomSplit([0.8, 0.18, 0.02], 24)\ntrain_data = splitted_data[0]\ntest_data = splitted_data[1]\npredict_data = splitted_data[2]\n\nprint(\"Number of training records: {count}\".format(count=train_data.count()))\nprint(\"Number of testing records: {count}\".format(count=test_data.count()))\nprint(\"Number of prediction records: {count}\".format(count=predict_data.count()))"
        }, 
        {
            "source": "### 3.2: Create pipeline and train a model", 
            "cell_type": "markdown", 
            "metadata": {}
        }, 
        {
            "source": "In this section you will create an Apache\u00ae Spark machine learning pipeline and then train the model.", 
            "cell_type": "markdown", 
            "metadata": {}
        }, 
        {
            "source": "Import the Apache\u00ae Spark machine learning packages that will be needed in the subsequent steps.", 
            "cell_type": "markdown", 
            "metadata": {}
        }, 
        {
            "execution_count": 11, 
            "cell_type": "code", 
            "metadata": {}, 
            "outputs": [], 
            "source": "from pyspark.ml.feature import Tokenizer, OneHotEncoder, StringIndexer, HashingTF\nfrom pyspark.ml.classification import LogisticRegression\nfrom pyspark.ml.evaluation import BinaryClassificationEvaluator\nfrom pyspark.ml.tuning import ParamGridBuilder, CrossValidator\nfrom pyspark.ml import Pipeline, Model"
        }, 
        {
            "source": "In the data preprocessing step, convert all the string fields to numeric ones by using **Tokenizer** and then **HashingTF** transformer.", 
            "cell_type": "markdown", 
            "metadata": {}
        }, 
        {
            "execution_count": 12, 
            "cell_type": "code", 
            "metadata": {}, 
            "outputs": [], 
            "source": "tokenizer = Tokenizer(inputCol=\"text\", outputCol=\"words\")\nhashingTF = HashingTF(inputCol=tokenizer.getOutputCol(), outputCol=\"features\")"
        }, 
        {
            "source": "Next, define estimator you want to use for classification. Logistic Regression is used in the following example.", 
            "cell_type": "markdown", 
            "metadata": {}
        }, 
        {
            "execution_count": 17, 
            "cell_type": "code", 
            "metadata": {}, 
            "outputs": [], 
            "source": "lr = LogisticRegression(maxIter=10, regParam=0.01)"
        }, 
        {
            "source": "Let's build the pipeline now. A pipeline consists of transformers and an estimator.", 
            "cell_type": "markdown", 
            "metadata": {}
        }, 
        {
            "execution_count": 18, 
            "cell_type": "code", 
            "metadata": {}, 
            "outputs": [], 
            "source": "pipeline_lr = Pipeline(stages=[tokenizer, hashingTF, lr])"
        }, 
        {
            "source": "Now, you can train your Logistic Regression model by using previously defined **pipeline** and **train data**.", 
            "cell_type": "markdown", 
            "metadata": {}
        }, 
        {
            "execution_count": 19, 
            "cell_type": "code", 
            "metadata": {}, 
            "outputs": [], 
            "source": "model_lr = pipeline_lr.fit(train_data)"
        }, 
        {
            "source": "You can evaluate the model on the test data. Area under ROC will be used as evaluation metrics.", 
            "cell_type": "markdown", 
            "metadata": {}
        }, 
        {
            "execution_count": 20, 
            "cell_type": "code", 
            "metadata": {}, 
            "outputs": [
                {
                    "output_type": "stream", 
                    "name": "stdout", 
                    "text": "Accuracy = 0.762\n"
                }
            ], 
            "source": "predictions = model_lr.transform(test_data)\nevaluatorRF = BinaryClassificationEvaluator(labelCol=\"label\", rawPredictionCol=\"prediction\", metricName=\"areaUnderROC\")\naccuracy = evaluatorRF.evaluate(predictions)\n\nprint(\"Accuracy = {acc:4.3f}\".format(acc=accuracy))"
        }, 
        {
            "source": "Now you can tune your model to achieve better accuracy. For simplicity of this notebook, tuning section is omitted.", 
            "cell_type": "markdown", 
            "metadata": {
                "collapsed": true
            }
        }, 
        {
            "source": "<a id=\"persistence\"></a>\n## 4. Persist model", 
            "cell_type": "markdown", 
            "metadata": {
                "collapsed": true
            }
        }, 
        {
            "source": "In this section you will store your pipeline and model in Watson Machine Learning repository by using python client libraries.", 
            "cell_type": "markdown", 
            "metadata": {}
        }, 
        {
            "source": "First, you must install and import Watson Machine Learning client libraries.", 
            "cell_type": "markdown", 
            "metadata": {
                "collapsed": true
            }
        }, 
        {
            "execution_count": 21, 
            "cell_type": "code", 
            "metadata": {}, 
            "outputs": [], 
            "source": "!rm -rf $PIP_BUILD/watson-machine-learning-client"
        }, 
        {
            "execution_count": 22, 
            "cell_type": "code", 
            "metadata": {}, 
            "outputs": [
                {
                    "output_type": "stream", 
                    "name": "stdout", 
                    "text": "Collecting watson-machine-learning-client\n\u001b[?25l  Downloading https://files.pythonhosted.org/packages/ac/5c/be0d3efe27704bbd43481b7de364ade8c686e867617caba8654989e0864b/watson_machine_learning_client-1.0.375-py3-none-any.whl (536kB)\n\u001b[K    100% |################################| 542kB 3.3MB/s eta 0:00:01\n\u001b[?25hCollecting requests (from watson-machine-learning-client)\n\u001b[?25l  Downloading https://files.pythonhosted.org/packages/51/bd/23c926cd341ea6b7dd0b2a00aba99ae0f828be89d72b2190f27c11d4b7fb/requests-2.22.0-py2.py3-none-any.whl (57kB)\n\u001b[K    100% |################################| 61kB 2.8MB/s eta 0:00:01\n\u001b[?25hCollecting certifi (from watson-machine-learning-client)\n\u001b[?25l  Downloading https://files.pythonhosted.org/packages/18/b0/8146a4f8dd402f60744fa380bc73ca47303cccf8b9190fd16a827281eac2/certifi-2019.9.11-py2.py3-none-any.whl (154kB)\n\u001b[K    100% |################################| 163kB 4.3MB/s eta 0:00:01\n\u001b[?25hCollecting ibm-cos-sdk (from watson-machine-learning-client)\n\u001b[?25l  Downloading https://files.pythonhosted.org/packages/e9/74/4b5be9c9891afc0c93e3dff8f3022925303b369030e6942877601fed57ec/ibm-cos-sdk-2.5.3.tar.gz (52kB)\n\u001b[K    100% |################################| 61kB 2.8MB/s eta 0:00:01\n\u001b[?25hCollecting pandas (from watson-machine-learning-client)\n\u001b[?25l  Downloading https://files.pythonhosted.org/packages/73/9b/52e228545d14f14bb2a1622e225f38463c8726645165e1cb7dde95bfe6d4/pandas-0.25.1-cp36-cp36m-manylinux1_x86_64.whl (10.5MB)\n\u001b[K    100% |################################| 10.5MB 1.1MB/s eta 0:00:01\n\u001b[?25hCollecting tabulate (from watson-machine-learning-client)\n\u001b[?25l  Downloading https://files.pythonhosted.org/packages/c2/fd/202954b3f0eb896c53b7b6f07390851b1fd2ca84aa95880d7ae4f434c4ac/tabulate-0.8.3.tar.gz (46kB)\n\u001b[K    100% |################################| 51kB 2.0MB/s eta 0:00:01\n\u001b[?25hCollecting lomond (from watson-machine-learning-client)\n  Downloading https://files.pythonhosted.org/packages/0f/b1/02eebed49c754b01b17de7705caa8c4ceecfb4f926cdafc220c863584360/lomond-0.3.3-py2.py3-none-any.whl\nCollecting tqdm (from watson-machine-learning-client)\n\u001b[?25l  Downloading https://files.pythonhosted.org/packages/dc/88/d3213e2f3492daf09d8b41631ad6899f56db17ce83ea9c8a579902bafe5e/tqdm-4.35.0-py2.py3-none-any.whl (50kB)\n\u001b[K    100% |################################| 51kB 1.7MB/s eta 0:00:01\n\u001b[?25hCollecting urllib3 (from watson-machine-learning-client)\n\u001b[?25l  Downloading https://files.pythonhosted.org/packages/e6/60/247f23a7121ae632d62811ba7f273d0e58972d75e58a94d329d51550a47d/urllib3-1.25.3-py2.py3-none-any.whl (150kB)\n\u001b[K    100% |################################| 153kB 3.5MB/s eta 0:00:01\n\u001b[?25hCollecting chardet<3.1.0,>=3.0.2 (from requests->watson-machine-learning-client)\n\u001b[?25l  Downloading https://files.pythonhosted.org/packages/bc/a9/01ffebfb562e4274b6487b4bb1ddec7ca55ec7510b22e4c51f14098443b8/chardet-3.0.4-py2.py3-none-any.whl (133kB)\n\u001b[K    100% |################################| 143kB 3.8MB/s eta 0:00:01\n\u001b[?25hCollecting idna<2.9,>=2.5 (from requests->watson-machine-learning-client)\n\u001b[?25l  Downloading https://files.pythonhosted.org/packages/14/2c/cd551d81dbe15200be1cf41cd03869a46fe7226e7450af7a6545bfc474c9/idna-2.8-py2.py3-none-any.whl (58kB)\n\u001b[K    100% |################################| 61kB 2.3MB/s eta 0:00:01\n\u001b[?25hCollecting ibm-cos-sdk-core>=2.0.0 (from ibm-cos-sdk->watson-machine-learning-client)\n\u001b[?25l  Downloading https://files.pythonhosted.org/packages/f0/c5/caab0176c1ddc173b04300bf56f1b96e7d22ae21e653bc069d1a7f3ab6ac/ibm-cos-sdk-core-2.5.3.tar.gz (1.1MB)\n\u001b[K    100% |################################| 1.1MB 3.3MB/s eta 0:00:01\n\u001b[?25hCollecting ibm-cos-sdk-s3transfer>=2.0.0 (from ibm-cos-sdk->watson-machine-learning-client)\n\u001b[?25l  Downloading https://files.pythonhosted.org/packages/a6/55/aaed4743f507129375c8af44b6996983d44fffceea8b03b919de9c8846aa/ibm-cos-sdk-s3transfer-2.5.3.tar.gz (134kB)\n\u001b[K    100% |################################| 143kB 5.2MB/s eta 0:00:01\n\u001b[?25hCollecting jmespath<1.0.0,>=0.7.1 (from ibm-cos-sdk->watson-machine-learning-client)\n  Downloading https://files.pythonhosted.org/packages/83/94/7179c3832a6d45b266ddb2aac329e101367fbdb11f425f13771d27f225bb/jmespath-0.9.4-py2.py3-none-any.whl\nCollecting python-dateutil>=2.6.1 (from pandas->watson-machine-learning-client)\n\u001b[?25l  Downloading https://files.pythonhosted.org/packages/41/17/c62faccbfbd163c7f57f3844689e3a78bae1f403648a6afb1d0866d87fbb/python_dateutil-2.8.0-py2.py3-none-any.whl (226kB)\n\u001b[K    100% |################################| 235kB 4.0MB/s eta 0:00:01\n\u001b[?25hCollecting numpy>=1.13.3 (from pandas->watson-machine-learning-client)\n\u001b[?25l  Downloading https://files.pythonhosted.org/packages/e5/e6/c3fdc53aed9fa19d6ff3abf97dfad768ae3afce1b7431f7500000816bda5/numpy-1.17.2-cp36-cp36m-manylinux1_x86_64.whl (20.4MB)\n\u001b[K    100% |################################| 20.4MB 825kB/s eta 0:00:01\n\u001b[?25hCollecting pytz>=2017.2 (from pandas->watson-machine-learning-client)\n\u001b[?25l  Downloading https://files.pythonhosted.org/packages/87/76/46d697698a143e05f77bec5a526bf4e56a0be61d63425b68f4ba553b51f2/pytz-2019.2-py2.py3-none-any.whl (508kB)\n\u001b[K    100% |################################| 512kB 2.1MB/s eta 0:00:01\n\u001b[?25hCollecting six>=1.10.0 (from lomond->watson-machine-learning-client)\n  Downloading https://files.pythonhosted.org/packages/73/fb/00a976f728d0d1fecfe898238ce23f502a721c0ac0ecfedb80e0d88c64e9/six-1.12.0-py2.py3-none-any.whl\nCollecting docutils>=0.10 (from ibm-cos-sdk-core>=2.0.0->ibm-cos-sdk->watson-machine-learning-client)\n\u001b[?25l  Downloading https://files.pythonhosted.org/packages/22/cd/a6aa959dca619918ccb55023b4cb151949c64d4d5d55b3f4ffd7eee0c6e8/docutils-0.15.2-py3-none-any.whl (547kB)\n\u001b[K    100% |################################| 552kB 4.8MB/s eta 0:00:01\n\u001b[?25hBuilding wheels for collected packages: ibm-cos-sdk, tabulate, ibm-cos-sdk-core, ibm-cos-sdk-s3transfer\n  Building wheel for ibm-cos-sdk (setup.py) ... \u001b[?25ldone\n\u001b[?25h  Stored in directory: /home/spark/shared/.cache/pip/wheels/90/77/29/81711bb3e090595845ebb3d558a5ac42bdacf44cd25bd67a4f\n  Building wheel for tabulate (setup.py) ... \u001b[?25ldone\n\u001b[?25h  Stored in directory: /home/spark/shared/.cache/pip/wheels/2b/67/89/414471314a2d15de625d184d8be6d38a03ae1e983dbda91e84\n  Building wheel for ibm-cos-sdk-core (setup.py) ... \u001b[?25ldone\n\u001b[?25h  Stored in directory: /home/spark/shared/.cache/pip/wheels/3d/b3/b6/62fb8388c1aa4cb250fe639c14c56ed80a7d98957fa173fbee\n  Building wheel for ibm-cos-sdk-s3transfer (setup.py) ... \u001b[?25ldone\n\u001b[?25h  Stored in directory: /home/spark/shared/.cache/pip/wheels/23/0f/a7/880657d33d5a1c3f9e1d00c5d471d0822404f86be0c7160994\nSuccessfully built ibm-cos-sdk tabulate ibm-cos-sdk-core ibm-cos-sdk-s3transfer\n\u001b[31mtensorflow 1.13.1 requires tensorboard<1.14.0,>=1.13.0, which is not installed.\u001b[0m\n\u001b[31mibm-cos-sdk-core 2.5.3 has requirement urllib3<1.25,>=1.20, but you'll have urllib3 1.25.3 which is incompatible.\u001b[0m\n\u001b[31mbotocore 1.12.82 has requirement urllib3<1.25,>=1.20, but you'll have urllib3 1.25.3 which is incompatible.\u001b[0m\nInstalling collected packages: urllib3, chardet, idna, certifi, requests, jmespath, docutils, six, python-dateutil, ibm-cos-sdk-core, ibm-cos-sdk-s3transfer, ibm-cos-sdk, numpy, pytz, pandas, tabulate, lomond, tqdm, watson-machine-learning-client\nSuccessfully installed certifi-2019.9.11 chardet-3.0.4 docutils-0.15.2 ibm-cos-sdk-2.5.3 ibm-cos-sdk-core-2.5.3 ibm-cos-sdk-s3transfer-2.5.3 idna-2.8 jmespath-0.9.4 lomond-0.3.3 numpy-1.17.2 pandas-0.25.1 python-dateutil-2.8.0 pytz-2019.2 requests-2.22.0 six-1.12.0 tabulate-0.8.3 tqdm-4.35.0 urllib3-1.25.3 watson-machine-learning-client-1.0.375\n"
                }
            ], 
            "source": "!pip install watson-machine-learning-client --upgrade"
        }, 
        {
            "execution_count": 23, 
            "cell_type": "code", 
            "metadata": {}, 
            "outputs": [], 
            "source": "from watson_machine_learning_client import WatsonMachineLearningAPIClient"
        }, 
        {
            "execution_count": 24, 
            "cell_type": "code", 
            "metadata": {}, 
            "outputs": [], 
            "source": "wml_credentials={\n  \"apikey\": \"P6eeZO4QmQ-kePxXCDimOwxQnlD6Ogg7BOfj_9VM7Ema\",\n  \"iam_apikey_description\": \"Auto-generated for key 8fcfcdf5-caff-4a5f-a6e4-00686c02a810\",\n  \"iam_apikey_name\": \"ml-credential\",\n  \"iam_role_crn\": \"crn:v1:bluemix:public:iam::::serviceRole:Writer\",\n  \"iam_serviceid_crn\": \"crn:v1:bluemix:public:iam-identity::a/09783aaca4f14173b87365a111c8b5d0::serviceid:ServiceId-e9bbf235-1d10-4b2a-8af2-03ded34f0e22\",\n  \"instance_id\": \"25d8bad4-1b67-4087-a745-3bcf89cfee49\",\n  \"url\": \"https://us-south.ml.cloud.ibm.com\"\n}"
        }, 
        {
            "source": "Create WML client and authorize it.", 
            "cell_type": "markdown", 
            "metadata": {}
        }, 
        {
            "execution_count": 25, 
            "cell_type": "code", 
            "metadata": {}, 
            "outputs": [], 
            "source": "client = WatsonMachineLearningAPIClient(wml_credentials)"
        }, 
        {
            "execution_count": 26, 
            "cell_type": "code", 
            "metadata": {}, 
            "outputs": [
                {
                    "execution_count": 26, 
                    "metadata": {}, 
                    "data": {
                        "text/plain": "'1.0.375'"
                    }, 
                    "output_type": "execute_result"
                }
            ], 
            "source": "client.version"
        }, 
        {
            "source": "### 4.1: Save pipeline and model", 
            "cell_type": "markdown", 
            "metadata": {}
        }, 
        {
            "execution_count": 27, 
            "cell_type": "code", 
            "metadata": {}, 
            "outputs": [
                {
                    "output_type": "stream", 
                    "name": "stdout", 
                    "text": "3ddfbde8-f1bb-45af-93ff-401e9824f60f\n"
                }
            ], 
            "source": "saved_model_details = client.repository.store_model(model=model_lr, meta_props={\"name\": \"Sentiment Prediction Model\"}, training_data=train_data, pipeline=pipeline_lr)\n\nmodel_uid = client.repository.get_model_uid(saved_model_details)\nprint(model_uid)"
        }, 
        {
            "source": "Check model details:", 
            "cell_type": "markdown", 
            "metadata": {}
        }, 
        {
            "execution_count": 28, 
            "cell_type": "code", 
            "metadata": {}, 
            "outputs": [
                {
                    "output_type": "stream", 
                    "name": "stdout", 
                    "text": "{'metadata': {'guid': '3ddfbde8-f1bb-45af-93ff-401e9824f60f', 'url': 'https://us-south.ml.cloud.ibm.com/v3/wml_instances/25d8bad4-1b67-4087-a745-3bcf89cfee49/published_models/3ddfbde8-f1bb-45af-93ff-401e9824f60f', 'created_at': '2019-09-14T21:31:47.043Z', 'modified_at': '2019-09-14T21:31:47.103Z'}, 'entity': {'runtime_environment': 'spark-2.3', 'learning_configuration_url': 'https://us-south.ml.cloud.ibm.com/v3/wml_instances/25d8bad4-1b67-4087-a745-3bcf89cfee49/published_models/3ddfbde8-f1bb-45af-93ff-401e9824f60f/learning_configuration', 'name': 'Sentiment Prediction Model', 'label_col': 'label', 'learning_iterations_url': 'https://us-south.ml.cloud.ibm.com/v3/wml_instances/25d8bad4-1b67-4087-a745-3bcf89cfee49/published_models/3ddfbde8-f1bb-45af-93ff-401e9824f60f/learning_iterations', 'training_data_schema': {'fields': [{'metadata': {}, 'name': 'id', 'nullable': True, 'type': 'integer'}, {'metadata': {}, 'name': 'text', 'nullable': True, 'type': 'string'}, {'metadata': {'modeling_role': 'target'}, 'name': 'label', 'nullable': True, 'type': 'integer'}], 'type': 'struct'}, 'feedback_url': 'https://us-south.ml.cloud.ibm.com/v3/wml_instances/25d8bad4-1b67-4087-a745-3bcf89cfee49/published_models/3ddfbde8-f1bb-45af-93ff-401e9824f60f/feedback', 'latest_version': {'url': 'https://us-south.ml.cloud.ibm.com/v3/ml_assets/models/3ddfbde8-f1bb-45af-93ff-401e9824f60f/versions/29a749b6-63a2-4aaa-bce2-e076e9aca46c', 'guid': '29a749b6-63a2-4aaa-bce2-e076e9aca46c', 'created_at': '2019-09-14T21:31:47.103Z'}, 'model_type': 'mllib-2.3', 'deployments': {'count': 0, 'url': 'https://us-south.ml.cloud.ibm.com/v3/wml_instances/25d8bad4-1b67-4087-a745-3bcf89cfee49/published_models/3ddfbde8-f1bb-45af-93ff-401e9824f60f/deployments'}, 'evaluation_metrics_url': 'https://us-south.ml.cloud.ibm.com/v3/wml_instances/25d8bad4-1b67-4087-a745-3bcf89cfee49/published_models/3ddfbde8-f1bb-45af-93ff-401e9824f60f/evaluation_metrics', 'input_data_schema': {'fields': [{'metadata': {}, 'name': 'id', 'nullable': True, 'type': 'integer'}, {'metadata': {}, 'name': 'text', 'nullable': True, 'type': 'string'}], 'type': 'struct'}}}\n"
                }
            ], 
            "source": "print(saved_model_details)"
        }, 
        {
            "source": "### 4.2: Load model", 
            "cell_type": "markdown", 
            "metadata": {}
        }, 
        {
            "execution_count": 29, 
            "cell_type": "code", 
            "metadata": {}, 
            "outputs": [], 
            "source": "loaded_model = client.repository.load(model_uid)"
        }, 
        {
            "source": "You can check the type of model. As it is the same model you saved, you can use it for local scoring.", 
            "cell_type": "markdown", 
            "metadata": {}
        }, 
        {
            "execution_count": 30, 
            "cell_type": "code", 
            "metadata": {}, 
            "outputs": [
                {
                    "output_type": "stream", 
                    "name": "stdout", 
                    "text": "<class 'pyspark.ml.pipeline.PipelineModel'>\n"
                }
            ], 
            "source": "print(type(loaded_model))"
        }, 
        {
            "source": "<a id=\"visualization\"></a>\n## 5. Predict locally and visualize", 
            "cell_type": "markdown", 
            "metadata": {}
        }, 
        {
            "source": "### 5.1: Make local prediction using previously loaded model and test data", 
            "cell_type": "markdown", 
            "metadata": {}
        }, 
        {
            "source": "In this subsection you will score ``predict_data`` data set.", 
            "cell_type": "markdown", 
            "metadata": {}
        }, 
        {
            "execution_count": 31, 
            "cell_type": "code", 
            "metadata": {}, 
            "outputs": [], 
            "source": "predictions = loaded_model.transform(predict_data)"
        }, 
        {
            "source": "Preview the results by calling the *show()* method on the predictions DataFrame.", 
            "cell_type": "markdown", 
            "metadata": {}
        }, 
        {
            "execution_count": 32, 
            "cell_type": "code", 
            "metadata": {}, 
            "outputs": [
                {
                    "output_type": "stream", 
                    "name": "stdout", 
                    "text": "+---+--------------------+-----+--------------------+--------------------+--------------------+--------------------+----------+\n| id|                text|label|               words|            features|       rawPrediction|         probability|prediction|\n+---+--------------------+-----+--------------------+--------------------+--------------------+--------------------+----------+\n|254|realdonaldtrump t...|    1|[realdonaldtrump,...|(262144,[4312,961...|[-1.3150612511415...|[0.21164114610918...|       1.0|\n|256|realdonaldtrump j...|    0|[realdonaldtrump,...|(262144,[14,13396...|[5.48207446382384...|[0.99585655006955...|       0.0|\n|296|realdonaldtrump t...|    1|[realdonaldtrump,...|(262144,[15889,21...|[-1.3175186267989...|[0.21123142555360...|       1.0|\n|312|sensanders keep t...|    0|[sensanders, keep...|(262144,[32890,91...|[3.29411163264101...|[0.96422625174639...|       0.0|\n|362|katiedaviscourt i...|    0|[katiedaviscourt,...|(262144,[16332,21...|[3.83815328742004...|[0.97892057960460...|       0.0|\n+---+--------------------+-----+--------------------+--------------------+--------------------+--------------------+----------+\nonly showing top 5 rows\n\n"
                }
            ], 
            "source": "predictions.show(5)"
        }, 
        {
            "source": "By tabulating a count, you can see the split by sentiment.", 
            "cell_type": "markdown", 
            "metadata": {}
        }, 
        {
            "execution_count": 33, 
            "cell_type": "code", 
            "metadata": {}, 
            "outputs": [
                {
                    "output_type": "stream", 
                    "name": "stdout", 
                    "text": "+-----+-----+\n|label|count|\n+-----+-----+\n|    1|   49|\n|    0|   79|\n+-----+-----+\n\n"
                }
            ], 
            "source": "predictions.select(\"label\").groupBy(\"label\").count().show()"
        }, 
        {
            "source": "### 5.2: Sample visualization of data with Plotly package", 
            "cell_type": "markdown", 
            "metadata": {}
        }, 
        {
            "source": "In this subsection you will explore prediction results with Plotly, which is an online analytics and data visualization tool.", 
            "cell_type": "markdown", 
            "metadata": {}
        }, 
        {
            "source": "**Tip**: First, you need to install required packages. You can do it by running the following code. Run it only one time.", 
            "cell_type": "markdown", 
            "metadata": {}
        }, 
        {
            "execution_count": null, 
            "cell_type": "code", 
            "metadata": {
                "scrolled": false
            }, 
            "outputs": [], 
            "source": "!pip install plotly \n!pip install cufflinks "
        }, 
        {
            "execution_count": 47, 
            "cell_type": "code", 
            "metadata": {}, 
            "outputs": [
                {
                    "output_type": "display_data", 
                    "data": {
                        "text/html": "        <script type=\"text/javascript\">\n        window.PlotlyConfig = {MathJaxConfig: 'local'};\n        if (window.MathJax) {MathJax.Hub.Config({SVG: {font: \"STIX-Web\"}});}\n        if (typeof require !== 'undefined') {\n        require.undef(\"plotly\");\n        requirejs.config({\n            paths: {\n                'plotly': ['https://cdn.plot.ly/plotly-latest.min']\n            }\n        });\n        require(['plotly'], function(Plotly) {\n            window._Plotly = Plotly;\n        });\n        }\n        </script>\n        "
                    }, 
                    "metadata": {}
                }
            ], 
            "source": "import sys\nimport pandas\nimport chart_studio.plotly as py\nimport plotly.graph_objs as go\n\ninit_notebook_mode(connected=True)\nsys.path.append(\"\".join([os.environ[\"HOME\"]])) "
        }, 
        {
            "source": "You have to convert the Apache Spark DataFrame to a Pandas DataFrame to be used by ploting function.", 
            "cell_type": "markdown", 
            "metadata": {}
        }, 
        {
            "execution_count": 41, 
            "cell_type": "code", 
            "metadata": {}, 
            "outputs": [], 
            "source": "predictions_pdf = predictions.select(\"prediction\", \"label\", \"text\").toPandas()\ncumulative_stats = predictions_pdf.groupby(['label']).count()\nlabels_data_plot = cumulative_stats.index\nvalues_data_plot = cumulative_stats['text']"
        }, 
        {
            "source": "Plot a pie chart that shows the predicted sentiment label.", 
            "cell_type": "markdown", 
            "metadata": {}
        }, 
        {
            "execution_count": 48, 
            "cell_type": "code", 
            "metadata": {}, 
            "outputs": [
                {
                    "output_type": "display_data", 
                    "data": {
                        "text/html": "<div>\n        \n        \n            <div id=\"9e378656-1f71-4ddb-b1ec-4b1020e5d0c3\" class=\"plotly-graph-div\" style=\"height:525px; width:100%;\"></div>\n            <script type=\"text/javascript\">\n                require([\"plotly\"], function(Plotly) {\n                    window.PLOTLYENV=window.PLOTLYENV || {};\n                    \n                if (document.getElementById(\"9e378656-1f71-4ddb-b1ec-4b1020e5d0c3\")) {\n                    Plotly.newPlot(\n                        '9e378656-1f71-4ddb-b1ec-4b1020e5d0c3',\n                        [{\"labels\": [0, 1], \"type\": \"pie\", \"values\": [79, 49]}],\n                        {\"template\": {\"data\": {\"bar\": [{\"error_x\": {\"color\": \"#2a3f5f\"}, \"error_y\": {\"color\": \"#2a3f5f\"}, \"marker\": {\"line\": {\"color\": \"#E5ECF6\", \"width\": 0.5}}, \"type\": \"bar\"}], \"barpolar\": [{\"marker\": {\"line\": {\"color\": \"#E5ECF6\", \"width\": 0.5}}, \"type\": \"barpolar\"}], \"carpet\": [{\"aaxis\": {\"endlinecolor\": \"#2a3f5f\", \"gridcolor\": \"white\", \"linecolor\": \"white\", \"minorgridcolor\": \"white\", \"startlinecolor\": \"#2a3f5f\"}, \"baxis\": {\"endlinecolor\": \"#2a3f5f\", \"gridcolor\": \"white\", \"linecolor\": \"white\", \"minorgridcolor\": \"white\", \"startlinecolor\": \"#2a3f5f\"}, \"type\": \"carpet\"}], \"choropleth\": [{\"colorbar\": {\"outlinewidth\": 0, \"ticks\": \"\"}, \"type\": \"choropleth\"}], \"contour\": [{\"colorbar\": {\"outlinewidth\": 0, \"ticks\": \"\"}, \"colorscale\": [[0.0, \"#0d0887\"], [0.1111111111111111, \"#46039f\"], [0.2222222222222222, \"#7201a8\"], [0.3333333333333333, \"#9c179e\"], [0.4444444444444444, \"#bd3786\"], [0.5555555555555556, \"#d8576b\"], [0.6666666666666666, \"#ed7953\"], [0.7777777777777778, \"#fb9f3a\"], [0.8888888888888888, \"#fdca26\"], [1.0, \"#f0f921\"]], \"type\": \"contour\"}], \"contourcarpet\": [{\"colorbar\": {\"outlinewidth\": 0, \"ticks\": \"\"}, \"type\": \"contourcarpet\"}], \"heatmap\": [{\"colorbar\": {\"outlinewidth\": 0, \"ticks\": \"\"}, \"colorscale\": [[0.0, \"#0d0887\"], [0.1111111111111111, \"#46039f\"], [0.2222222222222222, \"#7201a8\"], [0.3333333333333333, \"#9c179e\"], [0.4444444444444444, \"#bd3786\"], [0.5555555555555556, \"#d8576b\"], [0.6666666666666666, \"#ed7953\"], [0.7777777777777778, \"#fb9f3a\"], [0.8888888888888888, \"#fdca26\"], [1.0, \"#f0f921\"]], \"type\": \"heatmap\"}], \"heatmapgl\": [{\"colorbar\": {\"outlinewidth\": 0, \"ticks\": \"\"}, \"colorscale\": [[0.0, \"#0d0887\"], [0.1111111111111111, \"#46039f\"], [0.2222222222222222, \"#7201a8\"], [0.3333333333333333, \"#9c179e\"], [0.4444444444444444, \"#bd3786\"], [0.5555555555555556, \"#d8576b\"], [0.6666666666666666, \"#ed7953\"], [0.7777777777777778, \"#fb9f3a\"], [0.8888888888888888, \"#fdca26\"], [1.0, \"#f0f921\"]], \"type\": \"heatmapgl\"}], \"histogram\": [{\"marker\": {\"colorbar\": {\"outlinewidth\": 0, \"ticks\": \"\"}}, \"type\": \"histogram\"}], \"histogram2d\": [{\"colorbar\": {\"outlinewidth\": 0, \"ticks\": \"\"}, \"colorscale\": [[0.0, \"#0d0887\"], [0.1111111111111111, \"#46039f\"], [0.2222222222222222, \"#7201a8\"], [0.3333333333333333, \"#9c179e\"], [0.4444444444444444, \"#bd3786\"], [0.5555555555555556, \"#d8576b\"], [0.6666666666666666, \"#ed7953\"], [0.7777777777777778, \"#fb9f3a\"], [0.8888888888888888, \"#fdca26\"], [1.0, \"#f0f921\"]], \"type\": \"histogram2d\"}], \"histogram2dcontour\": [{\"colorbar\": {\"outlinewidth\": 0, \"ticks\": \"\"}, \"colorscale\": [[0.0, \"#0d0887\"], [0.1111111111111111, \"#46039f\"], [0.2222222222222222, \"#7201a8\"], [0.3333333333333333, \"#9c179e\"], [0.4444444444444444, \"#bd3786\"], [0.5555555555555556, \"#d8576b\"], [0.6666666666666666, \"#ed7953\"], [0.7777777777777778, \"#fb9f3a\"], [0.8888888888888888, \"#fdca26\"], [1.0, \"#f0f921\"]], \"type\": \"histogram2dcontour\"}], \"mesh3d\": [{\"colorbar\": {\"outlinewidth\": 0, \"ticks\": \"\"}, \"type\": \"mesh3d\"}], \"parcoords\": [{\"line\": {\"colorbar\": {\"outlinewidth\": 0, \"ticks\": \"\"}}, \"type\": \"parcoords\"}], \"scatter\": [{\"marker\": {\"colorbar\": {\"outlinewidth\": 0, \"ticks\": \"\"}}, \"type\": \"scatter\"}], \"scatter3d\": [{\"line\": {\"colorbar\": {\"outlinewidth\": 0, \"ticks\": \"\"}}, \"marker\": {\"colorbar\": {\"outlinewidth\": 0, \"ticks\": \"\"}}, \"type\": \"scatter3d\"}], \"scattercarpet\": [{\"marker\": {\"colorbar\": {\"outlinewidth\": 0, \"ticks\": \"\"}}, \"type\": \"scattercarpet\"}], \"scattergeo\": [{\"marker\": {\"colorbar\": {\"outlinewidth\": 0, \"ticks\": \"\"}}, \"type\": \"scattergeo\"}], \"scattergl\": [{\"marker\": {\"colorbar\": {\"outlinewidth\": 0, \"ticks\": \"\"}}, \"type\": \"scattergl\"}], \"scattermapbox\": [{\"marker\": {\"colorbar\": {\"outlinewidth\": 0, \"ticks\": \"\"}}, \"type\": \"scattermapbox\"}], \"scatterpolar\": [{\"marker\": {\"colorbar\": {\"outlinewidth\": 0, \"ticks\": \"\"}}, \"type\": \"scatterpolar\"}], \"scatterpolargl\": [{\"marker\": {\"colorbar\": {\"outlinewidth\": 0, \"ticks\": \"\"}}, \"type\": \"scatterpolargl\"}], \"scatterternary\": [{\"marker\": {\"colorbar\": {\"outlinewidth\": 0, \"ticks\": \"\"}}, \"type\": \"scatterternary\"}], \"surface\": [{\"colorbar\": {\"outlinewidth\": 0, \"ticks\": \"\"}, \"colorscale\": [[0.0, \"#0d0887\"], [0.1111111111111111, \"#46039f\"], [0.2222222222222222, \"#7201a8\"], [0.3333333333333333, \"#9c179e\"], [0.4444444444444444, \"#bd3786\"], [0.5555555555555556, \"#d8576b\"], [0.6666666666666666, \"#ed7953\"], [0.7777777777777778, \"#fb9f3a\"], [0.8888888888888888, \"#fdca26\"], [1.0, \"#f0f921\"]], \"type\": \"surface\"}], \"table\": [{\"cells\": {\"fill\": {\"color\": \"#EBF0F8\"}, \"line\": {\"color\": \"white\"}}, \"header\": {\"fill\": {\"color\": \"#C8D4E3\"}, \"line\": {\"color\": \"white\"}}, \"type\": \"table\"}]}, \"layout\": {\"annotationdefaults\": {\"arrowcolor\": \"#2a3f5f\", \"arrowhead\": 0, \"arrowwidth\": 1}, \"colorscale\": {\"diverging\": [[0, \"#8e0152\"], [0.1, \"#c51b7d\"], [0.2, \"#de77ae\"], [0.3, \"#f1b6da\"], [0.4, \"#fde0ef\"], [0.5, \"#f7f7f7\"], [0.6, \"#e6f5d0\"], [0.7, \"#b8e186\"], [0.8, \"#7fbc41\"], [0.9, \"#4d9221\"], [1, \"#276419\"]], \"sequential\": [[0.0, \"#0d0887\"], [0.1111111111111111, \"#46039f\"], [0.2222222222222222, \"#7201a8\"], [0.3333333333333333, \"#9c179e\"], [0.4444444444444444, \"#bd3786\"], [0.5555555555555556, \"#d8576b\"], [0.6666666666666666, \"#ed7953\"], [0.7777777777777778, \"#fb9f3a\"], [0.8888888888888888, \"#fdca26\"], [1.0, \"#f0f921\"]], \"sequentialminus\": [[0.0, \"#0d0887\"], [0.1111111111111111, \"#46039f\"], [0.2222222222222222, \"#7201a8\"], [0.3333333333333333, \"#9c179e\"], [0.4444444444444444, \"#bd3786\"], [0.5555555555555556, \"#d8576b\"], [0.6666666666666666, \"#ed7953\"], [0.7777777777777778, \"#fb9f3a\"], [0.8888888888888888, \"#fdca26\"], [1.0, \"#f0f921\"]]}, \"colorway\": [\"#636efa\", \"#EF553B\", \"#00cc96\", \"#ab63fa\", \"#FFA15A\", \"#19d3f3\", \"#FF6692\", \"#B6E880\", \"#FF97FF\", \"#FECB52\"], \"font\": {\"color\": \"#2a3f5f\"}, \"geo\": {\"bgcolor\": \"white\", \"lakecolor\": \"white\", \"landcolor\": \"#E5ECF6\", \"showlakes\": true, \"showland\": true, \"subunitcolor\": \"white\"}, \"hoverlabel\": {\"align\": \"left\"}, \"hovermode\": \"closest\", \"mapbox\": {\"style\": \"light\"}, \"paper_bgcolor\": \"white\", \"plot_bgcolor\": \"#E5ECF6\", \"polar\": {\"angularaxis\": {\"gridcolor\": \"white\", \"linecolor\": \"white\", \"ticks\": \"\"}, \"bgcolor\": \"#E5ECF6\", \"radialaxis\": {\"gridcolor\": \"white\", \"linecolor\": \"white\", \"ticks\": \"\"}}, \"scene\": {\"xaxis\": {\"backgroundcolor\": \"#E5ECF6\", \"gridcolor\": \"white\", \"gridwidth\": 2, \"linecolor\": \"white\", \"showbackground\": true, \"ticks\": \"\", \"zerolinecolor\": \"white\"}, \"yaxis\": {\"backgroundcolor\": \"#E5ECF6\", \"gridcolor\": \"white\", \"gridwidth\": 2, \"linecolor\": \"white\", \"showbackground\": true, \"ticks\": \"\", \"zerolinecolor\": \"white\"}, \"zaxis\": {\"backgroundcolor\": \"#E5ECF6\", \"gridcolor\": \"white\", \"gridwidth\": 2, \"linecolor\": \"white\", \"showbackground\": true, \"ticks\": \"\", \"zerolinecolor\": \"white\"}}, \"shapedefaults\": {\"line\": {\"color\": \"#2a3f5f\"}}, \"ternary\": {\"aaxis\": {\"gridcolor\": \"white\", \"linecolor\": \"white\", \"ticks\": \"\"}, \"baxis\": {\"gridcolor\": \"white\", \"linecolor\": \"white\", \"ticks\": \"\"}, \"bgcolor\": \"#E5ECF6\", \"caxis\": {\"gridcolor\": \"white\", \"linecolor\": \"white\", \"ticks\": \"\"}}, \"title\": {\"x\": 0.05}, \"xaxis\": {\"automargin\": true, \"gridcolor\": \"white\", \"linecolor\": \"white\", \"ticks\": \"\", \"zerolinecolor\": \"white\", \"zerolinewidth\": 2}, \"yaxis\": {\"automargin\": true, \"gridcolor\": \"white\", \"linecolor\": \"white\", \"ticks\": \"\", \"zerolinecolor\": \"white\", \"zerolinewidth\": 2}}}, \"title\": {\"text\": \"Sentiment\"}},\n                        {\"responsive\": true}\n                    ).then(function(){\n                            \nvar gd = document.getElementById('9e378656-1f71-4ddb-b1ec-4b1020e5d0c3');\nvar x = new MutationObserver(function (mutations, observer) {{\n        var display = window.getComputedStyle(gd).display;\n        if (!display || display === 'none') {{\n            console.log([gd, 'removed!']);\n            Plotly.purge(gd);\n            observer.disconnect();\n        }}\n}});\n\n// Listen for the removal of the full notebook cells\nvar notebookContainer = gd.closest('#notebook-container');\nif (notebookContainer) {{\n    x.observe(notebookContainer, {childList: true});\n}}\n\n// Listen for the clearing of the current output cell\nvar outputEl = gd.closest('.output');\nif (outputEl) {{\n    x.observe(outputEl, {childList: true});\n}}\n\n                        })\n                };\n                });\n            </script>\n        </div>", 
                        "application/vnd.plotly.v1+json": {
                            "config": {
                                "plotlyServerURL": "https://plot.ly", 
                                "linkText": "Export to plot.ly", 
                                "showLink": false
                            }, 
                            "data": [
                                {
                                    "type": "pie", 
                                    "labels": [
                                        0, 
                                        1
                                    ], 
                                    "values": [
                                        79, 
                                        49
                                    ]
                                }
                            ], 
                            "layout": {
                                "template": {
                                    "data": {
                                        "mesh3d": [
                                            {
                                                "colorbar": {
                                                    "outlinewidth": 0, 
                                                    "ticks": ""
                                                }, 
                                                "type": "mesh3d"
                                            }
                                        ], 
                                        "scattercarpet": [
                                            {
                                                "marker": {
                                                    "colorbar": {
                                                        "outlinewidth": 0, 
                                                        "ticks": ""
                                                    }
                                                }, 
                                                "type": "scattercarpet"
                                            }
                                        ], 
                                        "scatterternary": [
                                            {
                                                "marker": {
                                                    "colorbar": {
                                                        "outlinewidth": 0, 
                                                        "ticks": ""
                                                    }
                                                }, 
                                                "type": "scatterternary"
                                            }
                                        ], 
                                        "surface": [
                                            {
                                                "colorbar": {
                                                    "outlinewidth": 0, 
                                                    "ticks": ""
                                                }, 
                                                "type": "surface", 
                                                "colorscale": [
                                                    [
                                                        0, 
                                                        "#0d0887"
                                                    ], 
                                                    [
                                                        0.1111111111111111, 
                                                        "#46039f"
                                                    ], 
                                                    [
                                                        0.2222222222222222, 
                                                        "#7201a8"
                                                    ], 
                                                    [
                                                        0.3333333333333333, 
                                                        "#9c179e"
                                                    ], 
                                                    [
                                                        0.4444444444444444, 
                                                        "#bd3786"
                                                    ], 
                                                    [
                                                        0.5555555555555556, 
                                                        "#d8576b"
                                                    ], 
                                                    [
                                                        0.6666666666666666, 
                                                        "#ed7953"
                                                    ], 
                                                    [
                                                        0.7777777777777778, 
                                                        "#fb9f3a"
                                                    ], 
                                                    [
                                                        0.8888888888888888, 
                                                        "#fdca26"
                                                    ], 
                                                    [
                                                        1, 
                                                        "#f0f921"
                                                    ]
                                                ]
                                            }
                                        ], 
                                        "histogram": [
                                            {
                                                "marker": {
                                                    "colorbar": {
                                                        "outlinewidth": 0, 
                                                        "ticks": ""
                                                    }
                                                }, 
                                                "type": "histogram"
                                            }
                                        ], 
                                        "heatmapgl": [
                                            {
                                                "colorbar": {
                                                    "outlinewidth": 0, 
                                                    "ticks": ""
                                                }, 
                                                "type": "heatmapgl", 
                                                "colorscale": [
                                                    [
                                                        0, 
                                                        "#0d0887"
                                                    ], 
                                                    [
                                                        0.1111111111111111, 
                                                        "#46039f"
                                                    ], 
                                                    [
                                                        0.2222222222222222, 
                                                        "#7201a8"
                                                    ], 
                                                    [
                                                        0.3333333333333333, 
                                                        "#9c179e"
                                                    ], 
                                                    [
                                                        0.4444444444444444, 
                                                        "#bd3786"
                                                    ], 
                                                    [
                                                        0.5555555555555556, 
                                                        "#d8576b"
                                                    ], 
                                                    [
                                                        0.6666666666666666, 
                                                        "#ed7953"
                                                    ], 
                                                    [
                                                        0.7777777777777778, 
                                                        "#fb9f3a"
                                                    ], 
                                                    [
                                                        0.8888888888888888, 
                                                        "#fdca26"
                                                    ], 
                                                    [
                                                        1, 
                                                        "#f0f921"
                                                    ]
                                                ]
                                            }
                                        ], 
                                        "scatterpolar": [
                                            {
                                                "marker": {
                                                    "colorbar": {
                                                        "outlinewidth": 0, 
                                                        "ticks": ""
                                                    }
                                                }, 
                                                "type": "scatterpolar"
                                            }
                                        ], 
                                        "scatterpolargl": [
                                            {
                                                "marker": {
                                                    "colorbar": {
                                                        "outlinewidth": 0, 
                                                        "ticks": ""
                                                    }
                                                }, 
                                                "type": "scatterpolargl"
                                            }
                                        ], 
                                        "table": [
                                            {
                                                "header": {
                                                    "line": {
                                                        "color": "white"
                                                    }, 
                                                    "fill": {
                                                        "color": "#C8D4E3"
                                                    }
                                                }, 
                                                "cells": {
                                                    "line": {
                                                        "color": "white"
                                                    }, 
                                                    "fill": {
                                                        "color": "#EBF0F8"
                                                    }
                                                }, 
                                                "type": "table"
                                            }
                                        ], 
                                        "histogram2d": [
                                            {
                                                "colorbar": {
                                                    "outlinewidth": 0, 
                                                    "ticks": ""
                                                }, 
                                                "type": "histogram2d", 
                                                "colorscale": [
                                                    [
                                                        0, 
                                                        "#0d0887"
                                                    ], 
                                                    [
                                                        0.1111111111111111, 
                                                        "#46039f"
                                                    ], 
                                                    [
                                                        0.2222222222222222, 
                                                        "#7201a8"
                                                    ], 
                                                    [
                                                        0.3333333333333333, 
                                                        "#9c179e"
                                                    ], 
                                                    [
                                                        0.4444444444444444, 
                                                        "#bd3786"
                                                    ], 
                                                    [
                                                        0.5555555555555556, 
                                                        "#d8576b"
                                                    ], 
                                                    [
                                                        0.6666666666666666, 
                                                        "#ed7953"
                                                    ], 
                                                    [
                                                        0.7777777777777778, 
                                                        "#fb9f3a"
                                                    ], 
                                                    [
                                                        0.8888888888888888, 
                                                        "#fdca26"
                                                    ], 
                                                    [
                                                        1, 
                                                        "#f0f921"
                                                    ]
                                                ]
                                            }
                                        ], 
                                        "contour": [
                                            {
                                                "colorbar": {
                                                    "outlinewidth": 0, 
                                                    "ticks": ""
                                                }, 
                                                "type": "contour", 
                                                "colorscale": [
                                                    [
                                                        0, 
                                                        "#0d0887"
                                                    ], 
                                                    [
                                                        0.1111111111111111, 
                                                        "#46039f"
                                                    ], 
                                                    [
                                                        0.2222222222222222, 
                                                        "#7201a8"
                                                    ], 
                                                    [
                                                        0.3333333333333333, 
                                                        "#9c179e"
                                                    ], 
                                                    [
                                                        0.4444444444444444, 
                                                        "#bd3786"
                                                    ], 
                                                    [
                                                        0.5555555555555556, 
                                                        "#d8576b"
                                                    ], 
                                                    [
                                                        0.6666666666666666, 
                                                        "#ed7953"
                                                    ], 
                                                    [
                                                        0.7777777777777778, 
                                                        "#fb9f3a"
                                                    ], 
                                                    [
                                                        0.8888888888888888, 
                                                        "#fdca26"
                                                    ], 
                                                    [
                                                        1, 
                                                        "#f0f921"
                                                    ]
                                                ]
                                            }
                                        ], 
                                        "carpet": [
                                            {
                                                "baxis": {
                                                    "endlinecolor": "#2a3f5f", 
                                                    "gridcolor": "white", 
                                                    "linecolor": "white", 
                                                    "minorgridcolor": "white", 
                                                    "startlinecolor": "#2a3f5f"
                                                }, 
                                                "type": "carpet", 
                                                "aaxis": {
                                                    "endlinecolor": "#2a3f5f", 
                                                    "gridcolor": "white", 
                                                    "linecolor": "white", 
                                                    "minorgridcolor": "white", 
                                                    "startlinecolor": "#2a3f5f"
                                                }
                                            }
                                        ], 
                                        "bar": [
                                            {
                                                "marker": {
                                                    "line": {
                                                        "color": "#E5ECF6", 
                                                        "width": 0.5
                                                    }
                                                }, 
                                                "error_x": {
                                                    "color": "#2a3f5f"
                                                }, 
                                                "type": "bar", 
                                                "error_y": {
                                                    "color": "#2a3f5f"
                                                }
                                            }
                                        ], 
                                        "contourcarpet": [
                                            {
                                                "colorbar": {
                                                    "outlinewidth": 0, 
                                                    "ticks": ""
                                                }, 
                                                "type": "contourcarpet"
                                            }
                                        ], 
                                        "choropleth": [
                                            {
                                                "colorbar": {
                                                    "outlinewidth": 0, 
                                                    "ticks": ""
                                                }, 
                                                "type": "choropleth"
                                            }
                                        ], 
                                        "parcoords": [
                                            {
                                                "line": {
                                                    "colorbar": {
                                                        "outlinewidth": 0, 
                                                        "ticks": ""
                                                    }
                                                }, 
                                                "type": "parcoords"
                                            }
                                        ], 
                                        "heatmap": [
                                            {
                                                "colorbar": {
                                                    "outlinewidth": 0, 
                                                    "ticks": ""
                                                }, 
                                                "type": "heatmap", 
                                                "colorscale": [
                                                    [
                                                        0, 
                                                        "#0d0887"
                                                    ], 
                                                    [
                                                        0.1111111111111111, 
                                                        "#46039f"
                                                    ], 
                                                    [
                                                        0.2222222222222222, 
                                                        "#7201a8"
                                                    ], 
                                                    [
                                                        0.3333333333333333, 
                                                        "#9c179e"
                                                    ], 
                                                    [
                                                        0.4444444444444444, 
                                                        "#bd3786"
                                                    ], 
                                                    [
                                                        0.5555555555555556, 
                                                        "#d8576b"
                                                    ], 
                                                    [
                                                        0.6666666666666666, 
                                                        "#ed7953"
                                                    ], 
                                                    [
                                                        0.7777777777777778, 
                                                        "#fb9f3a"
                                                    ], 
                                                    [
                                                        0.8888888888888888, 
                                                        "#fdca26"
                                                    ], 
                                                    [
                                                        1, 
                                                        "#f0f921"
                                                    ]
                                                ]
                                            }
                                        ], 
                                        "barpolar": [
                                            {
                                                "marker": {
                                                    "line": {
                                                        "color": "#E5ECF6", 
                                                        "width": 0.5
                                                    }
                                                }, 
                                                "type": "barpolar"
                                            }
                                        ], 
                                        "scattermapbox": [
                                            {
                                                "marker": {
                                                    "colorbar": {
                                                        "outlinewidth": 0, 
                                                        "ticks": ""
                                                    }
                                                }, 
                                                "type": "scattermapbox"
                                            }
                                        ], 
                                        "scatter3d": [
                                            {
                                                "marker": {
                                                    "colorbar": {
                                                        "outlinewidth": 0, 
                                                        "ticks": ""
                                                    }
                                                }, 
                                                "line": {
                                                    "colorbar": {
                                                        "outlinewidth": 0, 
                                                        "ticks": ""
                                                    }
                                                }, 
                                                "type": "scatter3d"
                                            }
                                        ], 
                                        "scattergeo": [
                                            {
                                                "marker": {
                                                    "colorbar": {
                                                        "outlinewidth": 0, 
                                                        "ticks": ""
                                                    }
                                                }, 
                                                "type": "scattergeo"
                                            }
                                        ], 
                                        "histogram2dcontour": [
                                            {
                                                "colorbar": {
                                                    "outlinewidth": 0, 
                                                    "ticks": ""
                                                }, 
                                                "type": "histogram2dcontour", 
                                                "colorscale": [
                                                    [
                                                        0, 
                                                        "#0d0887"
                                                    ], 
                                                    [
                                                        0.1111111111111111, 
                                                        "#46039f"
                                                    ], 
                                                    [
                                                        0.2222222222222222, 
                                                        "#7201a8"
                                                    ], 
                                                    [
                                                        0.3333333333333333, 
                                                        "#9c179e"
                                                    ], 
                                                    [
                                                        0.4444444444444444, 
                                                        "#bd3786"
                                                    ], 
                                                    [
                                                        0.5555555555555556, 
                                                        "#d8576b"
                                                    ], 
                                                    [
                                                        0.6666666666666666, 
                                                        "#ed7953"
                                                    ], 
                                                    [
                                                        0.7777777777777778, 
                                                        "#fb9f3a"
                                                    ], 
                                                    [
                                                        0.8888888888888888, 
                                                        "#fdca26"
                                                    ], 
                                                    [
                                                        1, 
                                                        "#f0f921"
                                                    ]
                                                ]
                                            }
                                        ], 
                                        "scatter": [
                                            {
                                                "marker": {
                                                    "colorbar": {
                                                        "outlinewidth": 0, 
                                                        "ticks": ""
                                                    }
                                                }, 
                                                "type": "scatter"
                                            }
                                        ], 
                                        "scattergl": [
                                            {
                                                "marker": {
                                                    "colorbar": {
                                                        "outlinewidth": 0, 
                                                        "ticks": ""
                                                    }
                                                }, 
                                                "type": "scattergl"
                                            }
                                        ]
                                    }, 
                                    "layout": {
                                        "polar": {
                                            "radialaxis": {
                                                "ticks": "", 
                                                "gridcolor": "white", 
                                                "linecolor": "white"
                                            }, 
                                            "bgcolor": "#E5ECF6", 
                                            "angularaxis": {
                                                "ticks": "", 
                                                "gridcolor": "white", 
                                                "linecolor": "white"
                                            }
                                        }, 
                                        "colorway": [
                                            "#636efa", 
                                            "#EF553B", 
                                            "#00cc96", 
                                            "#ab63fa", 
                                            "#FFA15A", 
                                            "#19d3f3", 
                                            "#FF6692", 
                                            "#B6E880", 
                                            "#FF97FF", 
                                            "#FECB52"
                                        ], 
                                        "ternary": {
                                            "bgcolor": "#E5ECF6", 
                                            "baxis": {
                                                "ticks": "", 
                                                "gridcolor": "white", 
                                                "linecolor": "white"
                                            }, 
                                            "caxis": {
                                                "ticks": "", 
                                                "gridcolor": "white", 
                                                "linecolor": "white"
                                            }, 
                                            "aaxis": {
                                                "ticks": "", 
                                                "gridcolor": "white", 
                                                "linecolor": "white"
                                            }
                                        }, 
                                        "paper_bgcolor": "white", 
                                        "scene": {
                                            "zaxis": {
                                                "zerolinecolor": "white", 
                                                "gridcolor": "white", 
                                                "linecolor": "white", 
                                                "backgroundcolor": "#E5ECF6", 
                                                "ticks": "", 
                                                "gridwidth": 2, 
                                                "showbackground": true
                                            }, 
                                            "xaxis": {
                                                "zerolinecolor": "white", 
                                                "gridcolor": "white", 
                                                "linecolor": "white", 
                                                "backgroundcolor": "#E5ECF6", 
                                                "ticks": "", 
                                                "gridwidth": 2, 
                                                "showbackground": true
                                            }, 
                                            "yaxis": {
                                                "zerolinecolor": "white", 
                                                "gridcolor": "white", 
                                                "linecolor": "white", 
                                                "backgroundcolor": "#E5ECF6", 
                                                "ticks": "", 
                                                "gridwidth": 2, 
                                                "showbackground": true
                                            }
                                        }, 
                                        "hoverlabel": {
                                            "align": "left"
                                        }, 
                                        "hovermode": "closest", 
                                        "font": {
                                            "color": "#2a3f5f"
                                        }, 
                                        "geo": {
                                            "showland": true, 
                                            "landcolor": "#E5ECF6", 
                                            "subunitcolor": "white", 
                                            "bgcolor": "white", 
                                            "showlakes": true, 
                                            "lakecolor": "white"
                                        }, 
                                        "shapedefaults": {
                                            "line": {
                                                "color": "#2a3f5f"
                                            }
                                        }, 
                                        "colorscale": {
                                            "diverging": [
                                                [
                                                    0, 
                                                    "#8e0152"
                                                ], 
                                                [
                                                    0.1, 
                                                    "#c51b7d"
                                                ], 
                                                [
                                                    0.2, 
                                                    "#de77ae"
                                                ], 
                                                [
                                                    0.3, 
                                                    "#f1b6da"
                                                ], 
                                                [
                                                    0.4, 
                                                    "#fde0ef"
                                                ], 
                                                [
                                                    0.5, 
                                                    "#f7f7f7"
                                                ], 
                                                [
                                                    0.6, 
                                                    "#e6f5d0"
                                                ], 
                                                [
                                                    0.7, 
                                                    "#b8e186"
                                                ], 
                                                [
                                                    0.8, 
                                                    "#7fbc41"
                                                ], 
                                                [
                                                    0.9, 
                                                    "#4d9221"
                                                ], 
                                                [
                                                    1, 
                                                    "#276419"
                                                ]
                                            ], 
                                            "sequential": [
                                                [
                                                    0, 
                                                    "#0d0887"
                                                ], 
                                                [
                                                    0.1111111111111111, 
                                                    "#46039f"
                                                ], 
                                                [
                                                    0.2222222222222222, 
                                                    "#7201a8"
                                                ], 
                                                [
                                                    0.3333333333333333, 
                                                    "#9c179e"
                                                ], 
                                                [
                                                    0.4444444444444444, 
                                                    "#bd3786"
                                                ], 
                                                [
                                                    0.5555555555555556, 
                                                    "#d8576b"
                                                ], 
                                                [
                                                    0.6666666666666666, 
                                                    "#ed7953"
                                                ], 
                                                [
                                                    0.7777777777777778, 
                                                    "#fb9f3a"
                                                ], 
                                                [
                                                    0.8888888888888888, 
                                                    "#fdca26"
                                                ], 
                                                [
                                                    1, 
                                                    "#f0f921"
                                                ]
                                            ], 
                                            "sequentialminus": [
                                                [
                                                    0, 
                                                    "#0d0887"
                                                ], 
                                                [
                                                    0.1111111111111111, 
                                                    "#46039f"
                                                ], 
                                                [
                                                    0.2222222222222222, 
                                                    "#7201a8"
                                                ], 
                                                [
                                                    0.3333333333333333, 
                                                    "#9c179e"
                                                ], 
                                                [
                                                    0.4444444444444444, 
                                                    "#bd3786"
                                                ], 
                                                [
                                                    0.5555555555555556, 
                                                    "#d8576b"
                                                ], 
                                                [
                                                    0.6666666666666666, 
                                                    "#ed7953"
                                                ], 
                                                [
                                                    0.7777777777777778, 
                                                    "#fb9f3a"
                                                ], 
                                                [
                                                    0.8888888888888888, 
                                                    "#fdca26"
                                                ], 
                                                [
                                                    1, 
                                                    "#f0f921"
                                                ]
                                            ]
                                        }, 
                                        "plot_bgcolor": "#E5ECF6", 
                                        "title": {
                                            "x": 0.05
                                        }, 
                                        "yaxis": {
                                            "zerolinecolor": "white", 
                                            "automargin": true, 
                                            "gridcolor": "white", 
                                            "linecolor": "white", 
                                            "zerolinewidth": 2, 
                                            "ticks": ""
                                        }, 
                                        "xaxis": {
                                            "zerolinecolor": "white", 
                                            "automargin": true, 
                                            "gridcolor": "white", 
                                            "linecolor": "white", 
                                            "zerolinewidth": 2, 
                                            "ticks": ""
                                        }, 
                                        "mapbox": {
                                            "style": "light"
                                        }, 
                                        "annotationdefaults": {
                                            "arrowwidth": 1, 
                                            "arrowhead": 0, 
                                            "arrowcolor": "#2a3f5f"
                                        }
                                    }
                                }, 
                                "title": {
                                    "text": "Sentiment"
                                }
                            }
                        }
                    }, 
                    "metadata": {}
                }
            ], 
            "source": "product_data = [go.Pie(\n            labels=labels_data_plot,\n            values=values_data_plot,\n    )]\n\nproduct_layout = go.Layout(\n    title='Sentiment',\n)\n\nfig = go.Figure(data=product_data, layout=product_layout)\niplot(fig)"
        }
    ], 
    "metadata": {
        "kernelspec": {
            "display_name": "Python 3.6 with Spark", 
            "name": "python36", 
            "language": "python3"
        }, 
        "language_info": {
            "mimetype": "text/x-python", 
            "nbconvert_exporter": "python", 
            "version": "3.6.8", 
            "name": "python", 
            "file_extension": ".py", 
            "pygments_lexer": "ipython3", 
            "codemirror_mode": {
                "version": 3, 
                "name": "ipython"
            }
        }
    }, 
    "nbformat": 4
}